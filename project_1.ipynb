{
 "cells": [
  {
   "cell_type": "code",
   "execution_count": null,
   "metadata": {},
   "outputs": [],
   "source": [
    "class Budget():\r\n",
    "\r\n",
    "    cash_flow = 0\r\n",
    "    net_worth = 0\r\n",
    "    liquid_assets = 0\r\n",
    "    net_debt = 0\r\n",
    "    net_investment = 0\r\n",
    "\r\n",
    "    def __init__(self, year = None):\r\n",
    "        an instance of budget class should maintain a dictionary with month name as the key and key value should maintain another dictionary. That inner dictionary should have income, expense and investment as the keys and key values should maintain another dictinary. This inner dictionary should have   \r\n",
    "\r\n",
    "\r\n",
    "\r\n",
    "    def money_in(self, month = None):\r\n",
    "        if month == None:\r\n",
    "            calculate total money that came in for that year by adding salary, bonus and HSA for all the months of that year\r\n",
    "        else:\r\n",
    "            calculate total money that came in for that month by adding salary, bonus and HSA for that month\r\n",
    "   \r\n",
    "    def money_out(self, month = None):\r\n",
    "        if month == None:\r\n",
    "            calculate total money that went out for that year by adding bill, grocery, medical, travel and other for all the months of that year\r\n",
    "        else:\r\n",
    "            calculate total money that went out for that month by adding bill, grocery, medical, travel and other for that month\r\n",
    "\r\n"
   ]
  }
 ],
 "metadata": {
  "interpreter": {
   "hash": "be38b2f46af2cf4578bd20a85568ff49125ba7f2ae1f92f053adb8c148a67e21"
  },
  "kernelspec": {
   "display_name": "Python 3.8.10 64-bit ('base': conda)",
   "name": "python3"
  },
  "language_info": {
   "codemirror_mode": {
    "name": "ipython",
    "version": 3
   },
   "file_extension": ".py",
   "mimetype": "text/x-python",
   "name": "python",
   "nbconvert_exporter": "python",
   "pygments_lexer": "ipython3",
   "version": "3.8.10"
  },
  "orig_nbformat": 4
 },
 "nbformat": 4,
 "nbformat_minor": 2
}